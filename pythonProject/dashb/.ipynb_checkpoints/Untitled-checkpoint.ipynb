{
 "cells": [
  {
   "cell_type": "code",
   "execution_count": 1,
   "id": "centered-parks",
   "metadata": {},
   "outputs": [
    {
     "name": "stdout",
     "output_type": "stream",
     "text": [
      "Requirement already satisfied: chatterbot in /home/firedrake/anaconda3/envs/nicki/lib/python3.6/site-packages (1.0.8)\n",
      "Requirement already satisfied: pytz in /home/firedrake/anaconda3/envs/nicki/lib/python3.6/site-packages (from chatterbot) (2021.1)\n",
      "Requirement already satisfied: mathparse<0.2,>=0.1 in /home/firedrake/anaconda3/envs/nicki/lib/python3.6/site-packages (from chatterbot) (0.1.2)\n",
      "Requirement already satisfied: python-dateutil<2.9,>=2.8 in /home/firedrake/anaconda3/envs/nicki/lib/python3.6/site-packages (from chatterbot) (2.8.1)\n",
      "Requirement already satisfied: sqlalchemy<1.4,>=1.3 in /home/firedrake/anaconda3/envs/nicki/lib/python3.6/site-packages (from chatterbot) (1.3.23)\n",
      "Requirement already satisfied: six>=1.5 in /home/firedrake/anaconda3/envs/nicki/lib/python3.6/site-packages (from python-dateutil<2.9,>=2.8->chatterbot) (1.15.0)\n"
     ]
    }
   ],
   "source": [
    "!pip install chatterbot"
   ]
  },
  {
   "cell_type": "code",
   "execution_count": 2,
   "id": "exposed-ladder",
   "metadata": {},
   "outputs": [
    {
     "name": "stdout",
     "output_type": "stream",
     "text": [
      "Requirement already satisfied: pyttsx3 in /home/firedrake/anaconda3/envs/nicki/lib/python3.6/site-packages (2.90)\n",
      "Requirement already satisfied: speechrecognition in /home/firedrake/anaconda3/envs/nicki/lib/python3.6/site-packages (3.6.3)\n"
     ]
    }
   ],
   "source": [
    "!pip install pyttsx3\n",
    "!pip install speechrecognition"
   ]
  },
  {
   "cell_type": "code",
   "execution_count": 3,
   "id": "invalid-awareness",
   "metadata": {},
   "outputs": [
    {
     "name": "stdout",
     "output_type": "stream",
     "text": [
      "Collecting package metadata (current_repodata.json): done\n",
      "Solving environment: done\n",
      "\n",
      "# All requested packages already installed.\n",
      "\n",
      "\n",
      "Note: you may need to restart the kernel to use updated packages.\n"
     ]
    }
   ],
   "source": [
    "conda install -c conda-forge spacy"
   ]
  },
  {
   "cell_type": "code",
   "execution_count": 4,
   "id": "horizontal-enforcement",
   "metadata": {},
   "outputs": [],
   "source": [
    "#!python -m spacy link en_core_web_sm en"
   ]
  },
  {
   "cell_type": "code",
   "execution_count": 5,
   "id": "regulation-cable",
   "metadata": {},
   "outputs": [
    {
     "name": "stdout",
     "output_type": "stream",
     "text": [
      "2021-03-05 02:36:42.224840: W tensorflow/stream_executor/platform/default/dso_loader.cc:60] Could not load dynamic library 'libcudart.so.11.0'; dlerror: libcudart.so.11.0: cannot open shared object file: No such file or directory\n",
      "2021-03-05 02:36:42.224879: I tensorflow/stream_executor/cuda/cudart_stub.cc:29] Ignore above cudart dlerror if you do not have a GPU set up on your machine.\n",
      "Collecting en-core-web-sm==3.0.0\n",
      "  Downloading https://github.com/explosion/spacy-models/releases/download/en_core_web_sm-3.0.0/en_core_web_sm-3.0.0-py3-none-any.whl (13.7 MB)\n",
      "\u001b[K     |████████████████████████████████| 13.7 MB 646 kB/s eta 0:00:01    |████████████████▋               | 7.1 MB 629 kB/s eta 0:00:11\n",
      "\u001b[?25hRequirement already satisfied: spacy<3.1.0,>=3.0.0 in /home/firedrake/anaconda3/envs/nicki/lib/python3.6/site-packages (from en-core-web-sm==3.0.0) (3.0.3)\n",
      "Requirement already satisfied: typing-extensions>=3.7.4 in /home/firedrake/anaconda3/envs/nicki/lib/python3.6/site-packages (from spacy<3.1.0,>=3.0.0->en-core-web-sm==3.0.0) (3.7.4.3)\n",
      "Requirement already satisfied: cymem<2.1.0,>=2.0.2 in /home/firedrake/anaconda3/envs/nicki/lib/python3.6/site-packages (from spacy<3.1.0,>=3.0.0->en-core-web-sm==3.0.0) (2.0.5)\n",
      "Requirement already satisfied: thinc<8.1.0,>=8.0.0 in /home/firedrake/anaconda3/envs/nicki/lib/python3.6/site-packages (from spacy<3.1.0,>=3.0.0->en-core-web-sm==3.0.0) (8.0.1)\n",
      "Requirement already satisfied: packaging>=20.0 in /home/firedrake/anaconda3/envs/nicki/lib/python3.6/site-packages (from spacy<3.1.0,>=3.0.0->en-core-web-sm==3.0.0) (20.9)\n",
      "Requirement already satisfied: murmurhash<1.1.0,>=0.28.0 in /home/firedrake/anaconda3/envs/nicki/lib/python3.6/site-packages (from spacy<3.1.0,>=3.0.0->en-core-web-sm==3.0.0) (1.0.5)\n",
      "Requirement already satisfied: pydantic<1.8.0,>=1.7.1 in /home/firedrake/anaconda3/envs/nicki/lib/python3.6/site-packages (from spacy<3.1.0,>=3.0.0->en-core-web-sm==3.0.0) (1.7.3)\n",
      "Requirement already satisfied: typer<0.4.0,>=0.3.0 in /home/firedrake/anaconda3/envs/nicki/lib/python3.6/site-packages (from spacy<3.1.0,>=3.0.0->en-core-web-sm==3.0.0) (0.3.2)\n",
      "Requirement already satisfied: requests<3.0.0,>=2.13.0 in /home/firedrake/anaconda3/envs/nicki/lib/python3.6/site-packages (from spacy<3.1.0,>=3.0.0->en-core-web-sm==3.0.0) (2.25.1)\n",
      "Requirement already satisfied: tqdm<5.0.0,>=4.38.0 in /home/firedrake/anaconda3/envs/nicki/lib/python3.6/site-packages (from spacy<3.1.0,>=3.0.0->en-core-web-sm==3.0.0) (4.58.0)\n",
      "Requirement already satisfied: blis<0.8.0,>=0.4.0 in /home/firedrake/anaconda3/envs/nicki/lib/python3.6/site-packages (from spacy<3.1.0,>=3.0.0->en-core-web-sm==3.0.0) (0.7.4)\n",
      "Requirement already satisfied: importlib-metadata>=0.20 in /home/firedrake/anaconda3/envs/nicki/lib/python3.6/site-packages (from spacy<3.1.0,>=3.0.0->en-core-web-sm==3.0.0) (3.7.0)\n",
      "Requirement already satisfied: wasabi<1.1.0,>=0.8.1 in /home/firedrake/anaconda3/envs/nicki/lib/python3.6/site-packages (from spacy<3.1.0,>=3.0.0->en-core-web-sm==3.0.0) (0.8.2)\n",
      "Requirement already satisfied: jinja2 in /home/firedrake/anaconda3/envs/nicki/lib/python3.6/site-packages (from spacy<3.1.0,>=3.0.0->en-core-web-sm==3.0.0) (2.11.3)\n",
      "Requirement already satisfied: srsly<3.0.0,>=2.4.0 in /home/firedrake/anaconda3/envs/nicki/lib/python3.6/site-packages (from spacy<3.1.0,>=3.0.0->en-core-web-sm==3.0.0) (2.4.0)\n",
      "Requirement already satisfied: setuptools in /home/firedrake/anaconda3/envs/nicki/lib/python3.6/site-packages (from spacy<3.1.0,>=3.0.0->en-core-web-sm==3.0.0) (52.0.0.post20210125)\n",
      "Requirement already satisfied: pathy in /home/firedrake/anaconda3/envs/nicki/lib/python3.6/site-packages (from spacy<3.1.0,>=3.0.0->en-core-web-sm==3.0.0) (0.4.0)\n",
      "Requirement already satisfied: preshed<3.1.0,>=3.0.2 in /home/firedrake/anaconda3/envs/nicki/lib/python3.6/site-packages (from spacy<3.1.0,>=3.0.0->en-core-web-sm==3.0.0) (3.0.5)\n",
      "Requirement already satisfied: spacy-legacy<3.1.0,>=3.0.0 in /home/firedrake/anaconda3/envs/nicki/lib/python3.6/site-packages (from spacy<3.1.0,>=3.0.0->en-core-web-sm==3.0.0) (3.0.1)\n",
      "Requirement already satisfied: catalogue<2.1.0,>=2.0.1 in /home/firedrake/anaconda3/envs/nicki/lib/python3.6/site-packages (from spacy<3.1.0,>=3.0.0->en-core-web-sm==3.0.0) (2.0.1)\n",
      "Requirement already satisfied: numpy>=1.15.0 in /home/firedrake/anaconda3/envs/nicki/lib/python3.6/site-packages (from spacy<3.1.0,>=3.0.0->en-core-web-sm==3.0.0) (1.19.5)\n",
      "Requirement already satisfied: zipp>=0.5 in /home/firedrake/anaconda3/envs/nicki/lib/python3.6/site-packages (from importlib-metadata>=0.20->spacy<3.1.0,>=3.0.0->en-core-web-sm==3.0.0) (3.4.0)\n",
      "Requirement already satisfied: pyparsing>=2.0.2 in /home/firedrake/anaconda3/envs/nicki/lib/python3.6/site-packages (from packaging>=20.0->spacy<3.1.0,>=3.0.0->en-core-web-sm==3.0.0) (2.4.7)\n",
      "Requirement already satisfied: dataclasses>=0.6 in /home/firedrake/anaconda3/envs/nicki/lib/python3.6/site-packages (from pydantic<1.8.0,>=1.7.1->spacy<3.1.0,>=3.0.0->en-core-web-sm==3.0.0) (0.8)\n",
      "Requirement already satisfied: urllib3<1.27,>=1.21.1 in /home/firedrake/anaconda3/envs/nicki/lib/python3.6/site-packages (from requests<3.0.0,>=2.13.0->spacy<3.1.0,>=3.0.0->en-core-web-sm==3.0.0) (1.26.3)\n",
      "Requirement already satisfied: idna<3,>=2.5 in /home/firedrake/anaconda3/envs/nicki/lib/python3.6/site-packages (from requests<3.0.0,>=2.13.0->spacy<3.1.0,>=3.0.0->en-core-web-sm==3.0.0) (2.10)\n",
      "Requirement already satisfied: certifi>=2017.4.17 in /home/firedrake/anaconda3/envs/nicki/lib/python3.6/site-packages (from requests<3.0.0,>=2.13.0->spacy<3.1.0,>=3.0.0->en-core-web-sm==3.0.0) (2020.12.5)\n",
      "Requirement already satisfied: chardet<5,>=3.0.2 in /home/firedrake/anaconda3/envs/nicki/lib/python3.6/site-packages (from requests<3.0.0,>=2.13.0->spacy<3.1.0,>=3.0.0->en-core-web-sm==3.0.0) (4.0.0)\n",
      "Requirement already satisfied: contextvars<3,>=2.4 in /home/firedrake/anaconda3/envs/nicki/lib/python3.6/site-packages (from thinc<8.1.0,>=8.0.0->spacy<3.1.0,>=3.0.0->en-core-web-sm==3.0.0) (2.4)\n",
      "Requirement already satisfied: immutables>=0.9 in /home/firedrake/anaconda3/envs/nicki/lib/python3.6/site-packages (from contextvars<3,>=2.4->thinc<8.1.0,>=8.0.0->spacy<3.1.0,>=3.0.0->en-core-web-sm==3.0.0) (0.15)\n",
      "Requirement already satisfied: click<7.2.0,>=7.1.1 in /home/firedrake/anaconda3/envs/nicki/lib/python3.6/site-packages (from typer<0.4.0,>=0.3.0->spacy<3.1.0,>=3.0.0->en-core-web-sm==3.0.0) (7.1.2)\n",
      "Requirement already satisfied: MarkupSafe>=0.23 in /home/firedrake/anaconda3/envs/nicki/lib/python3.6/site-packages (from jinja2->spacy<3.1.0,>=3.0.0->en-core-web-sm==3.0.0) (1.1.1)\n",
      "Requirement already satisfied: smart-open<4.0.0,>=2.2.0 in /home/firedrake/anaconda3/envs/nicki/lib/python3.6/site-packages (from pathy->spacy<3.1.0,>=3.0.0->en-core-web-sm==3.0.0) (3.0.0)\n",
      "\u001b[38;5;2m✔ Download and installation successful\u001b[0m\n",
      "You can now load the package via spacy.load('en_core_web_sm')\n"
     ]
    }
   ],
   "source": [
    "!python -m spacy download en_core_web_sm"
   ]
  },
  {
   "cell_type": "code",
   "execution_count": 6,
   "id": "italic-spiritual",
   "metadata": {},
   "outputs": [
    {
     "name": "stdout",
     "output_type": "stream",
     "text": [
      "Requirement already satisfied: spacy-transformers in /home/firedrake/anaconda3/envs/nicki/lib/python3.6/site-packages (1.0.1)\n",
      "Requirement already satisfied: ftfy<6.0.0,>=5.0.0 in /home/firedrake/anaconda3/envs/nicki/lib/python3.6/site-packages (from spacy-transformers) (5.9)\n",
      "Requirement already satisfied: transformers<4.3.0,>=3.1.0 in /home/firedrake/anaconda3/envs/nicki/lib/python3.6/site-packages (from spacy-transformers) (4.2.2)\n",
      "Requirement already satisfied: torchcontrib<0.1.0,>=0.0.2 in /home/firedrake/anaconda3/envs/nicki/lib/python3.6/site-packages (from spacy-transformers) (0.0.2)\n",
      "Requirement already satisfied: dataclasses>=0.6 in /home/firedrake/anaconda3/envs/nicki/lib/python3.6/site-packages (from spacy-transformers) (0.8)\n",
      "Requirement already satisfied: srsly<3.0.0,>=2.4.0 in /home/firedrake/anaconda3/envs/nicki/lib/python3.6/site-packages (from spacy-transformers) (2.4.0)\n",
      "Requirement already satisfied: importlib-metadata>=0.20 in /home/firedrake/anaconda3/envs/nicki/lib/python3.6/site-packages (from spacy-transformers) (3.7.0)\n",
      "Requirement already satisfied: spacy-alignments<1.0.0,>=0.7.2 in /home/firedrake/anaconda3/envs/nicki/lib/python3.6/site-packages (from spacy-transformers) (0.7.2)\n",
      "Requirement already satisfied: torch>=1.5.0 in /home/firedrake/anaconda3/envs/nicki/lib/python3.6/site-packages (from spacy-transformers) (1.7.1)\n",
      "Requirement already satisfied: wcwidth in /home/firedrake/anaconda3/envs/nicki/lib/python3.6/site-packages (from ftfy<6.0.0,>=5.0.0->spacy-transformers) (0.2.5)\n",
      "Requirement already satisfied: zipp>=0.5 in /home/firedrake/anaconda3/envs/nicki/lib/python3.6/site-packages (from importlib-metadata>=0.20->spacy-transformers) (3.4.0)\n",
      "Requirement already satisfied: typing-extensions>=3.6.4 in /home/firedrake/anaconda3/envs/nicki/lib/python3.6/site-packages (from importlib-metadata>=0.20->spacy-transformers) (3.7.4.3)\n",
      "Requirement already satisfied: catalogue<2.1.0,>=2.0.1 in /home/firedrake/anaconda3/envs/nicki/lib/python3.6/site-packages (from srsly<3.0.0,>=2.4.0->spacy-transformers) (2.0.1)\n",
      "Requirement already satisfied: numpy in /home/firedrake/anaconda3/envs/nicki/lib/python3.6/site-packages (from torch>=1.5.0->spacy-transformers) (1.19.5)\n",
      "Requirement already satisfied: tokenizers==0.9.4 in /home/firedrake/anaconda3/envs/nicki/lib/python3.6/site-packages (from transformers<4.3.0,>=3.1.0->spacy-transformers) (0.9.4)\n",
      "Requirement already satisfied: regex!=2019.12.17 in /home/firedrake/anaconda3/envs/nicki/lib/python3.6/site-packages (from transformers<4.3.0,>=3.1.0->spacy-transformers) (2020.11.13)\n",
      "Requirement already satisfied: filelock in /home/firedrake/anaconda3/envs/nicki/lib/python3.6/site-packages (from transformers<4.3.0,>=3.1.0->spacy-transformers) (3.0.12)\n",
      "Requirement already satisfied: requests in /home/firedrake/anaconda3/envs/nicki/lib/python3.6/site-packages (from transformers<4.3.0,>=3.1.0->spacy-transformers) (2.25.1)\n",
      "Requirement already satisfied: packaging in /home/firedrake/anaconda3/envs/nicki/lib/python3.6/site-packages (from transformers<4.3.0,>=3.1.0->spacy-transformers) (20.9)\n",
      "Requirement already satisfied: sacremoses in /home/firedrake/anaconda3/envs/nicki/lib/python3.6/site-packages (from transformers<4.3.0,>=3.1.0->spacy-transformers) (0.0.43)\n",
      "Requirement already satisfied: tqdm>=4.27 in /home/firedrake/anaconda3/envs/nicki/lib/python3.6/site-packages (from transformers<4.3.0,>=3.1.0->spacy-transformers) (4.58.0)\n",
      "Requirement already satisfied: pyparsing>=2.0.2 in /home/firedrake/anaconda3/envs/nicki/lib/python3.6/site-packages (from packaging->transformers<4.3.0,>=3.1.0->spacy-transformers) (2.4.7)\n",
      "Requirement already satisfied: idna<3,>=2.5 in /home/firedrake/anaconda3/envs/nicki/lib/python3.6/site-packages (from requests->transformers<4.3.0,>=3.1.0->spacy-transformers) (2.10)\n",
      "Requirement already satisfied: chardet<5,>=3.0.2 in /home/firedrake/anaconda3/envs/nicki/lib/python3.6/site-packages (from requests->transformers<4.3.0,>=3.1.0->spacy-transformers) (4.0.0)\n",
      "Requirement already satisfied: certifi>=2017.4.17 in /home/firedrake/anaconda3/envs/nicki/lib/python3.6/site-packages (from requests->transformers<4.3.0,>=3.1.0->spacy-transformers) (2020.12.5)\n",
      "Requirement already satisfied: urllib3<1.27,>=1.21.1 in /home/firedrake/anaconda3/envs/nicki/lib/python3.6/site-packages (from requests->transformers<4.3.0,>=3.1.0->spacy-transformers) (1.26.3)\n",
      "Requirement already satisfied: six in /home/firedrake/anaconda3/envs/nicki/lib/python3.6/site-packages (from sacremoses->transformers<4.3.0,>=3.1.0->spacy-transformers) (1.15.0)\n",
      "Requirement already satisfied: click in /home/firedrake/anaconda3/envs/nicki/lib/python3.6/site-packages (from sacremoses->transformers<4.3.0,>=3.1.0->spacy-transformers) (7.1.2)\n",
      "Requirement already satisfied: joblib in /home/firedrake/anaconda3/envs/nicki/lib/python3.6/site-packages (from sacremoses->transformers<4.3.0,>=3.1.0->spacy-transformers) (1.0.1)\n"
     ]
    }
   ],
   "source": [
    "#!pip install numpy\n",
    "!pip install spacy-transformers"
   ]
  },
  {
   "cell_type": "code",
   "execution_count": 7,
   "id": "bored-prior",
   "metadata": {},
   "outputs": [
    {
     "name": "stdout",
     "output_type": "stream",
     "text": [
      "Requirement already satisfied: spacy-lookups-data in /home/firedrake/anaconda3/envs/nicki/lib/python3.6/site-packages (1.0.0)\n",
      "Requirement already satisfied: setuptools in /home/firedrake/anaconda3/envs/nicki/lib/python3.6/site-packages (from spacy-lookups-data) (52.0.0.post20210125)\n"
     ]
    }
   ],
   "source": [
    "!pip install spacy-lookups-data"
   ]
  },
  {
   "cell_type": "code",
   "execution_count": 8,
   "id": "compact-found",
   "metadata": {},
   "outputs": [],
   "source": [
    "#!python -m spacy download en_core_web_sm"
   ]
  },
  {
   "cell_type": "code",
   "execution_count": null,
   "id": "personalized-carrier",
   "metadata": {},
   "outputs": [],
   "source": []
  },
  {
   "cell_type": "code",
   "execution_count": 1,
   "id": "fundamental-logic",
   "metadata": {},
   "outputs": [
    {
     "name": "stdout",
     "output_type": "stream",
     "text": [
      "[<pyttsx3.voice.Voice object at 0x7f8834081a58>, <pyttsx3.voice.Voice object at 0x7f8834081470>, <pyttsx3.voice.Voice object at 0x7f8834081438>, <pyttsx3.voice.Voice object at 0x7f8834081208>, <pyttsx3.voice.Voice object at 0x7f8831749a58>, <pyttsx3.voice.Voice object at 0x7f88316dc748>, <pyttsx3.voice.Voice object at 0x7f88316dc7f0>, <pyttsx3.voice.Voice object at 0x7f88316dc898>, <pyttsx3.voice.Voice object at 0x7f88316dc940>, <pyttsx3.voice.Voice object at 0x7f88316dc9e8>, <pyttsx3.voice.Voice object at 0x7f88316dca90>, <pyttsx3.voice.Voice object at 0x7f88316dcb38>, <pyttsx3.voice.Voice object at 0x7f88316dcb70>, <pyttsx3.voice.Voice object at 0x7f88316dcba8>, <pyttsx3.voice.Voice object at 0x7f88316dcbe0>, <pyttsx3.voice.Voice object at 0x7f88316dcc18>, <pyttsx3.voice.Voice object at 0x7f88316dcc50>, <pyttsx3.voice.Voice object at 0x7f88316dcc88>, <pyttsx3.voice.Voice object at 0x7f88316dccc0>, <pyttsx3.voice.Voice object at 0x7f88316dcd68>, <pyttsx3.voice.Voice object at 0x7f88316dcda0>, <pyttsx3.voice.Voice object at 0x7f88316dcdd8>, <pyttsx3.voice.Voice object at 0x7f88316dce80>, <pyttsx3.voice.Voice object at 0x7f88316dceb8>, <pyttsx3.voice.Voice object at 0x7f88316dcf60>, <pyttsx3.voice.Voice object at 0x7f88316dcf98>, <pyttsx3.voice.Voice object at 0x7f88316e3080>, <pyttsx3.voice.Voice object at 0x7f88316e30b8>, <pyttsx3.voice.Voice object at 0x7f88316e30f0>, <pyttsx3.voice.Voice object at 0x7f88316e3198>, <pyttsx3.voice.Voice object at 0x7f88316e31d0>, <pyttsx3.voice.Voice object at 0x7f88316e3208>, <pyttsx3.voice.Voice object at 0x7f88316e3240>, <pyttsx3.voice.Voice object at 0x7f88316e3278>, <pyttsx3.voice.Voice object at 0x7f88316e32b0>, <pyttsx3.voice.Voice object at 0x7f88316e32e8>, <pyttsx3.voice.Voice object at 0x7f88316e3390>, <pyttsx3.voice.Voice object at 0x7f88316e3438>, <pyttsx3.voice.Voice object at 0x7f88316e3470>, <pyttsx3.voice.Voice object at 0x7f88316e3518>, <pyttsx3.voice.Voice object at 0x7f88316e35c0>, <pyttsx3.voice.Voice object at 0x7f88316e3668>, <pyttsx3.voice.Voice object at 0x7f88316e36a0>, <pyttsx3.voice.Voice object at 0x7f88316e36d8>, <pyttsx3.voice.Voice object at 0x7f88316e3780>, <pyttsx3.voice.Voice object at 0x7f88316e37b8>, <pyttsx3.voice.Voice object at 0x7f88316e37f0>, <pyttsx3.voice.Voice object at 0x7f88316e3898>, <pyttsx3.voice.Voice object at 0x7f88316e3940>, <pyttsx3.voice.Voice object at 0x7f88316e39e8>, <pyttsx3.voice.Voice object at 0x7f88316e3a20>, <pyttsx3.voice.Voice object at 0x7f88316e3ac8>, <pyttsx3.voice.Voice object at 0x7f88316e3b70>, <pyttsx3.voice.Voice object at 0x7f88316e3c18>, <pyttsx3.voice.Voice object at 0x7f88316e3c50>, <pyttsx3.voice.Voice object at 0x7f88316e3c88>, <pyttsx3.voice.Voice object at 0x7f88316e3d30>, <pyttsx3.voice.Voice object at 0x7f88316e3dd8>, <pyttsx3.voice.Voice object at 0x7f88316e3e10>, <pyttsx3.voice.Voice object at 0x7f88316e3eb8>, <pyttsx3.voice.Voice object at 0x7f88316e3f60>, <pyttsx3.voice.Voice object at 0x7f88316e3f98>, <pyttsx3.voice.Voice object at 0x7f88316e6080>, <pyttsx3.voice.Voice object at 0x7f88316e6128>, <pyttsx3.voice.Voice object at 0x7f88316e61d0>, <pyttsx3.voice.Voice object at 0x7f88316e6208>, <pyttsx3.voice.Voice object at 0x7f88316e6240>, <pyttsx3.voice.Voice object at 0x7f88316e6278>, <pyttsx3.voice.Voice object at 0x7f88316e62b0>]\n",
      "List Trainer: [####################] 100%\n",
      "your bot is listening try to speak\n"
     ]
    }
   ],
   "source": [
    "from chatterbot import ChatBot\n",
    "from chatterbot.trainers import ListTrainer\n",
    "from tkinter import *\n",
    "import pyttsx3 as pp\n",
    "import speech_recognition as s\n",
    "import threading\n",
    "import spacy\n",
    "nlp = spacy.load(\"en_core_web_sm\")\n",
    "\n",
    "engine = pp.init()\n",
    "\n",
    "voices = engine.getProperty('voices')\n",
    "print(voices)\n",
    "\n",
    "engine.setProperty('voice', voices[0].id)\n",
    "\n",
    "\n",
    "def speak(word):\n",
    "    engine.say(word)\n",
    "    engine.runAndWait()\n",
    "\n",
    "\n",
    "# pyttsx3\n",
    "bot = ChatBot(\"My Bot\")\n",
    "\n",
    "convo = [\n",
    "    'hello',\n",
    "    'hi there !',\n",
    "    'what is your name ?',\n",
    "    'My name is Bot , i am created by Bikram',\n",
    "    'how are you ?',\n",
    "    'I am doing great these days',\n",
    "    'thank you',\n",
    "    'In which city you live ?',\n",
    "    'I live in lucknow',\n",
    "    'In which language you talk?',\n",
    "    ' I mostly talk in english'\n",
    "]\n",
    "\n",
    "trainer = ListTrainer(bot)\n",
    "\n",
    "# now training the bot with the help of trainer\n",
    "\n",
    "trainer.train(convo)\n",
    "\n",
    "# answer = bot.get_response(\"what is your name?\")\n",
    "# print(answer)\n",
    "\n",
    "# print(\"Talk to bot \")\n",
    "# while True:\n",
    "#     query = input()\n",
    "#     if query == 'exit':\n",
    "#         break\n",
    "#     answer = bot.get_response(query)\n",
    "#     print(\"bot : \", answer)\n",
    "\n",
    "main = Tk()\n",
    "\n",
    "main.geometry(\"500x650\")\n",
    "\n",
    "main.title(\"My Chat bot\")\n",
    "img = PhotoImage(file=\"bot1.png\")\n",
    "\n",
    "photoL = Label(main, image=img)\n",
    "\n",
    "photoL.pack(pady=5)\n",
    "\n",
    "\n",
    "# takey query : it takes audio as input from user and convert it to string..\n",
    "\n",
    "def takeQuery():\n",
    "    sr = s.Recognizer()\n",
    "    sr.pause_threshold = 1\n",
    "    print(\"your bot is listening try to speak\")\n",
    "    with s.Microphone() as m:\n",
    "        try:\n",
    "            audio = sr.listen(m)\n",
    "            query = sr.recognize_google(audio, language='en')\n",
    "            print(query)\n",
    "            textF.delete(0, END)\n",
    "            textF.insert(0, query)\n",
    "            ask_from_bot()\n",
    "        except Exception as e:\n",
    "            print(e)\n",
    "            print(\"not recognized\")\n",
    "\n",
    "\n",
    "def ask_from_bot():\n",
    "    query = textF.get()\n",
    "    answer_from_bot = bot.get_response(query)\n",
    "    msgs.insert(END, \"you : \" + query)\n",
    "    print(type(answer_from_bot))\n",
    "    msgs.insert(END, \"bot : \" + str(answer_from_bot))\n",
    "    speak(answer_from_bot)\n",
    "    textF.delete(0, END)\n",
    "    msgs.yview(END)\n",
    "\n",
    "\n",
    "frame = Frame(main)\n",
    "\n",
    "sc = Scrollbar(frame)\n",
    "msgs = Listbox(frame, width=80, height=20, yscrollcommand=sc.set)\n",
    "\n",
    "sc.pack(side=RIGHT, fill=Y)\n",
    "\n",
    "msgs.pack(side=LEFT, fill=BOTH, pady=10)\n",
    "\n",
    "frame.pack()\n",
    "\n",
    "# creating text field\n",
    "\n",
    "textF = Entry(main, font=(\"Verdana\", 20))\n",
    "textF.pack(fill=X, pady=10)\n",
    "\n",
    "btn = Button(main, text=\"Ask from bot\", font=(\"Verdana\", 20), command=ask_from_bot)\n",
    "btn.pack()\n",
    "\n",
    "\n",
    "# creating a function\n",
    "def enter_function(event):\n",
    "    btn.invoke()\n",
    "\n",
    "\n",
    "# going to bind main window with enter key...\n",
    "\n",
    "main.bind('<Return>', enter_function)\n",
    "\n",
    "\n",
    "def repeatL():\n",
    "    while True:\n",
    "        takeQuery()\n",
    "\n",
    "\n",
    "t = threading.Thread(target=repeatL)\n",
    "\n",
    "t.start()\n",
    "\n",
    "main.mainloop()"
   ]
  },
  {
   "cell_type": "code",
   "execution_count": null,
   "id": "instant-representation",
   "metadata": {},
   "outputs": [],
   "source": [
    "#self.nlp = spacy.load(self.language.ISO_639_1.lower())"
   ]
  },
  {
   "cell_type": "code",
   "execution_count": null,
   "id": "knowing-malaysia",
   "metadata": {},
   "outputs": [],
   "source": []
  },
  {
   "cell_type": "code",
   "execution_count": null,
   "id": "ready-course",
   "metadata": {},
   "outputs": [],
   "source": []
  },
  {
   "cell_type": "code",
   "execution_count": null,
   "id": "demographic-voice",
   "metadata": {},
   "outputs": [],
   "source": []
  }
 ],
 "metadata": {
  "kernelspec": {
   "display_name": "Python (Nicki)",
   "language": "python",
   "name": "nicki"
  },
  "language_info": {
   "codemirror_mode": {
    "name": "ipython",
    "version": 3
   },
   "file_extension": ".py",
   "mimetype": "text/x-python",
   "name": "python",
   "nbconvert_exporter": "python",
   "pygments_lexer": "ipython3",
   "version": "3.6.12"
  }
 },
 "nbformat": 4,
 "nbformat_minor": 5
}
